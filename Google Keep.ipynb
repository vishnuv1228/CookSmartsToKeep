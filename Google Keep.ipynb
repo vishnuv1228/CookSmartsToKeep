{
 "cells": [
  {
   "cell_type": "code",
   "execution_count": 55,
   "metadata": {},
   "outputs": [],
   "source": [
    "import gkeepapi\n",
    "from bs4 import BeautifulSoup\n",
    "from datetime import date"
   ]
  },
  {
   "cell_type": "code",
   "execution_count": 69,
   "metadata": {},
   "outputs": [],
   "source": [
    "soup = BeautifulSoup(open(\"groceryDecember15.html\"), \"html.parser\")\n",
    "\n",
    "values = []\n",
    "\n",
    "for label in soup.find_all(\"br\"):\n",
    "    value = label.find_next_sibling(text=True)\n",
    "    values.append(value)\n",
    "values = list(filter(None, values))\n",
    "values = [line.replace('\\r', '').replace('\\n', '') for line in values]\n",
    "values = list(filter(None, values))\n",
    "values =  [s for s in values if \"Vegetarian\" not in s]\n",
    "listOfFalse = [False] * len(values)\n",
    "\n",
    "tupleOfValues = z = list(zip(values,listOfFalse))\n"
   ]
  },
  {
   "cell_type": "code",
   "execution_count": 70,
   "metadata": {},
   "outputs": [],
   "source": [
    "keep = gkeepapi.Keep()\n",
    "keep.login('', '')\n",
    "glist = keep.createList('Grocery List '  + str(date.today()), tupleOfValues)\n",
    "glist.pinned = True\n",
    "glist.color = gkeepapi.node.ColorValue.Red\n",
    "keep.sync()"
   ]
  },
  {
   "cell_type": "code",
   "execution_count": null,
   "metadata": {},
   "outputs": [],
   "source": []
  }
 ],
 "metadata": {
  "kernelspec": {
   "display_name": "Python 3",
   "language": "python",
   "name": "python3"
  },
  "language_info": {
   "codemirror_mode": {
    "name": "ipython",
    "version": 3
   },
   "file_extension": ".py",
   "mimetype": "text/x-python",
   "name": "python",
   "nbconvert_exporter": "python",
   "pygments_lexer": "ipython3",
   "version": "3.7.0"
  }
 },
 "nbformat": 4,
 "nbformat_minor": 2
}
